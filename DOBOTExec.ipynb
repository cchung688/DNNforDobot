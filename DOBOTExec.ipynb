{
  "cells": [
    {
      "cell_type": "markdown",
      "source": [
        "# 程式初始化"
      ],
      "metadata": {
        "id": "FnKIUGOUv8Fo"
      }
    },
    {
      "cell_type": "markdown",
      "source": [
        "Import函數庫"
      ],
      "metadata": {
        "id": "c2jiK1RqAXnv"
      }
    },
    {
      "cell_type": "code",
      "execution_count": null,
      "metadata": {
        "id": "BcyoUC1qJXqs"
      },
      "outputs": [],
      "source": [
        "import numpy as np\n",
        "import matplotlib.pyplot as plt\n",
        "from tensorflow.keras import backend as kr\n",
        "from tensorflow.keras.layers import Dense, BatchNormalization\n",
        "from tensorflow.keras.models import Sequential, load_model\n",
        "from tensorflow.keras import optimizers\n",
        "import logging\n",
        "logging.getLogger('tensorflow').disabled = True"
      ]
    },
    {
      "cell_type": "markdown",
      "source": [
        "取得GPU資訊"
      ],
      "metadata": {
        "id": "6-vfw1609ZXl"
      }
    },
    {
      "cell_type": "code",
      "source": [
        "!/usr/local/cuda/bin/nvcc --version\n",
        "\n",
        "!nvidia-smi"
      ],
      "metadata": {
        "id": "qSFGbJnY9ajM"
      },
      "execution_count": null,
      "outputs": []
    },
    {
      "cell_type": "markdown",
      "source": [
        "# 實作訓練資料產生函數"
      ],
      "metadata": {
        "id": "TQzB1m2SwN-A"
      }
    },
    {
      "cell_type": "markdown",
      "metadata": {
        "id": "JvpMDRIYJXqy"
      },
      "source": [
        "宣告Dobot位置與軸關節公式函數(順向運動學)"
      ]
    },
    {
      "cell_type": "code",
      "execution_count": null,
      "metadata": {
        "id": "Fsp92jzDJXq1"
      },
      "outputs": [],
      "source": [
        "def dobot_forword_kine(joints):\n",
        "\n",
        "    if joints.ndim == 1:\n",
        "        joints = np.expand_dims(joints, 0)\n",
        "\n",
        "    q1 = joints[:, 0:1] # 0:1而非直接0->確保內部採用Column處理\n",
        "    q2 = joints[:, 1:2]\n",
        "    q3 = joints[:, 2:3]\n",
        "\n",
        "    a2 = 135\n",
        "    a3 = 147\n",
        "    a4 = 61\n",
        "\n",
        "    C1 = np.cos(q1)\n",
        "    C2 = np.cos(q2)\n",
        "    C23 = np.cos(q2 + q3)\n",
        "    S1 = np.sin(q1)\n",
        "    S2 = np.sin(q2)\n",
        "    S23 = np.sin(q2 + q3)\n",
        "\n",
        "    dx = C1 * (a3 * C23 + a2 * C2 + a4)\n",
        "    dy = S1 * (a3 * C23 + a2 * C2 + a4)\n",
        "    dz = -a2 * S2 - a3 * S23\n",
        "\n",
        "    Point = np.hstack([dx, dy, dz]) # 建立陣列\n",
        "    return Point"
      ]
    },
    {
      "cell_type": "markdown",
      "source": [
        "宣告訓練資料產生函數"
      ],
      "metadata": {
        "id": "z0mcKGmLw-yH"
      }
    },
    {
      "cell_type": "code",
      "execution_count": null,
      "metadata": {
        "id": "Hc90uTAmJXq4"
      },
      "outputs": [],
      "source": [
        "def gen_data(Train_num):\n",
        "    joint_1 = (-np.pi / 2) + np.pi * np.random.rand(Train_num, 1)\n",
        "    joint_2 = (-85 * np.pi / 180) + (85 * np.pi / 180) * np.random.rand(Train_num, 1)\n",
        "    joint_3 = (-10 * np.pi / 180) + (105 * np.pi / 180) * np.random.rand(Train_num, 1)\n",
        "    joints = np.hstack((joint_1, joint_2, joint_3))\n",
        "    points = dobot_forword_kine(joints)\n",
        "    return points, joints"
      ]
    },
    {
      "cell_type": "markdown",
      "source": [
        "產生訓練集資料"
      ],
      "metadata": {
        "id": "JwpRbDpCAhOm"
      }
    },
    {
      "cell_type": "code",
      "execution_count": null,
      "metadata": {
        "id": "zVfegZWZJXq5"
      },
      "outputs": [],
      "source": [
        "x_train, y_train = gen_data(10000)"
      ]
    },
    {
      "cell_type": "markdown",
      "source": [
        "# 建立模型"
      ],
      "metadata": {
        "id": "mpwR-KzRxcmE"
      }
    },
    {
      "cell_type": "markdown",
      "source": [
        "模型架構參數"
      ],
      "metadata": {
        "id": "pOQgHJzxxtSz"
      }
    },
    {
      "cell_type": "code",
      "execution_count": null,
      "metadata": {
        "id": "oEV52TAvJXq7"
      },
      "outputs": [],
      "source": [
        "num =   # 神經元數\n",
        "lys =   # 隱藏層數\n",
        "is_normalize = # 正規化"
      ]
    },
    {
      "cell_type": "markdown",
      "source": [
        "設定輸入層"
      ],
      "metadata": {
        "id": "CaBEn-guA2Ln"
      }
    },
    {
      "cell_type": "code",
      "source": [
        "model = Sequential()\n",
        "model.add(Dense(units=num, input_dim=3, activation='relu'))\n",
        "if is_normalize:\n",
        "    model.add(BatchNormalization())"
      ],
      "metadata": {
        "id": "1tR3SWCpA3hF"
      },
      "execution_count": null,
      "outputs": []
    },
    {
      "cell_type": "markdown",
      "source": [
        "設定隱藏層"
      ],
      "metadata": {
        "id": "u7U0bF0jA9r2"
      }
    },
    {
      "cell_type": "code",
      "source": [
        "for i in range(0, lys):\n",
        "    model.add(Dense(units=num, activation='relu'))\n",
        "    if is_normalize:\n",
        "        model.add(BatchNormalization())"
      ],
      "metadata": {
        "id": "uN6BcIDfBAtV"
      },
      "execution_count": null,
      "outputs": []
    },
    {
      "cell_type": "markdown",
      "source": [
        "設定輸出層"
      ],
      "metadata": {
        "id": "P6jTHOEnBDSl"
      }
    },
    {
      "cell_type": "code",
      "source": [
        "model.add(Dense(units=3, activation='linear'))\n",
        "if is_normalize:\n",
        "    model.add(BatchNormalization())"
      ],
      "metadata": {
        "id": "ebcWtDywBE4Q"
      },
      "execution_count": null,
      "outputs": []
    },
    {
      "cell_type": "markdown",
      "metadata": {
        "id": "-1DxwcC5JXq9"
      },
      "source": [
        "# 訓練流程"
      ]
    },
    {
      "cell_type": "markdown",
      "source": [
        "自訂損失函數"
      ],
      "metadata": {
        "id": "sVhydqkXyAUg"
      }
    },
    {
      "cell_type": "code",
      "execution_count": null,
      "metadata": {
        "id": "lOAoaJCyJXq-"
      },
      "outputs": [],
      "source": [
        "def euclidean_distance(y_true, y_pred):\n",
        "        return kr.sqrt(kr.sum(kr.square(y_true - y_pred)))"
      ]
    },
    {
      "cell_type": "markdown",
      "source": [
        "學習參數"
      ],
      "metadata": {
        "id": "9cPnfSZ7yJDB"
      }
    },
    {
      "cell_type": "code",
      "execution_count": null,
      "metadata": {
        "id": "I_1_QXQ3JXq_"
      },
      "outputs": [],
      "source": [
        "lr =  # 學習率\n",
        "loss_fnc = 'mse'  # 可選擇 'mae', 'mse', 'msle', 'categorical_crossentropy' 或自訂損失函數等...\n",
        "# 可參考 https://www.tensorflow.org/api_docs/python/tf/keras/losses"
      ]
    },
    {
      "cell_type": "markdown",
      "source": [
        "編譯模型"
      ],
      "metadata": {
        "id": "Lev0JzfAyTQY"
      }
    },
    {
      "cell_type": "code",
      "source": [
        "optm = optimizers.Adam(learning_rate=lr)\n",
        "\n",
        "model.compile(optimizer = optm,\n",
        "              loss=loss_fnc,  # 使用平均絕對值誤差作爲損失函數\n",
        "              metrics=[euclidean_distance, 'accuracy'])  # 設定要儲存至model的損失\n",
        "model.summary()"
      ],
      "metadata": {
        "id": "NfIJkgguyWTb"
      },
      "execution_count": null,
      "outputs": []
    },
    {
      "cell_type": "markdown",
      "source": [
        "開始訓練"
      ],
      "metadata": {
        "id": "Fk7AugR4fqQN"
      }
    },
    {
      "cell_type": "code",
      "source": [
        "batchsize = # 批次\n",
        "epochs = # 訓練代數\n",
        "validationsplit = # 驗證比例\n",
        "history = model.fit(x_train, y_train,\n",
        "          epochs=epochs,\n",
        "          batch_size=batchsize,\n",
        "          validation_split=validationsplit,\n",
        "          verbose=1)"
      ],
      "metadata": {
        "id": "TPIfqPhyf1L6"
      },
      "execution_count": null,
      "outputs": []
    },
    {
      "cell_type": "markdown",
      "metadata": {
        "id": "au468Gz0JXrB"
      },
      "source": [
        "畫loss收斂圖"
      ]
    },
    {
      "cell_type": "code",
      "execution_count": null,
      "metadata": {
        "id": "c77pmnHtJXrC"
      },
      "outputs": [],
      "source": [
        "plt.plot(history.history['loss'])\n",
        "plt.plot(history.history['val_loss'])\n",
        "plt.title('loss')\n",
        "plt.xlabel('epoch')\n",
        "plt.ylabel('loss')\n",
        "plt.legend(['train', 'validation'], loc='center right')\n",
        "plt.show()"
      ]
    },
    {
      "cell_type": "markdown",
      "metadata": {
        "id": "zm_a5uboJXrC"
      },
      "source": [
        "畫正確率圖"
      ]
    },
    {
      "cell_type": "code",
      "execution_count": null,
      "metadata": {
        "id": "5H8N0IXmJXrD"
      },
      "outputs": [],
      "source": [
        "plt.plot(history.history['accuracy'])\n",
        "plt.plot(history.history['val_accuracy'])\n",
        "plt.title('accuracy')\n",
        "plt.xlabel('epoch')\n",
        "plt.ylabel('accuracy')\n",
        "plt.legend(['train', 'validation'], loc='center right')\n",
        "plt.show()"
      ]
    },
    {
      "cell_type": "markdown",
      "source": [
        "# 自行測試"
      ],
      "metadata": {
        "id": "718OftJmysip"
      }
    },
    {
      "cell_type": "code",
      "execution_count": null,
      "metadata": {
        "id": "KjqdMkJRJXrE"
      },
      "outputs": [],
      "source": [
        "x_test, y_test = gen_data(20)\n",
        "y_pred = model.predict(x_test)\n",
        "\n",
        "error_angles = euclidean_distance(y_test[0, :], y_pred[0, :])\n",
        "error_points = euclidean_distance(x_test[0, :], dobot_forword_kine(y_pred)[0, :])\n",
        "\n",
        "print('其中一個解:\\n')\n",
        "print(f'\\t角度誤差: {error_angles},\\n\\t正確解: {y_test[0, :]}\\n\\t預測解: {y_pred[0, :]}\\n')\n",
        "print(f'\\t座標誤差: {error_points},\\n\\t正確解: {x_test[0, :]}\\n\\t預測解: {dobot_forword_kine(y_pred)[0, :]}\\n')"
      ]
    },
    {
      "cell_type": "markdown",
      "source": [
        "# 儲存與讀取模型"
      ],
      "metadata": {
        "id": "URQrdnMmyv3m"
      }
    },
    {
      "cell_type": "markdown",
      "source": [
        "儲存模型"
      ],
      "metadata": {
        "id": "UNGf4fVXy4dZ"
      }
    },
    {
      "cell_type": "code",
      "execution_count": null,
      "metadata": {
        "id": "-o7JsDihJXrF"
      },
      "outputs": [],
      "source": [
        "# 儲存model爲'model.h5'\n",
        "filePath = './model.h5'\n",
        "model.save(filePath)  # 儲存model至'h5_filePath'\n",
        "\n",
        "# 讀取model\n",
        "loaded_model = load_model(filePath,\n",
        "    custom_objects={'euclidean_distance': euclidean_distance})  # 若有設定自訂函數, 需將其加入custom_objects中"
      ]
    },
    {
      "cell_type": "markdown",
      "source": [
        "讀取模型"
      ],
      "metadata": {
        "id": "9HV0rlO8y9oo"
      }
    },
    {
      "cell_type": "code",
      "execution_count": null,
      "metadata": {
        "id": "qy-0Y2aaJXrG"
      },
      "outputs": [],
      "source": [
        "from tensorflow.keras.models import load_model\n",
        "\n",
        "model = load_model(\n",
        "    \"./model.h5\", custom_objects={'euclidean_distance': euclidean_distance})\n",
        "\n",
        "def euclidean_distance(y_true, y_pred):\n",
        "    return kr.sqrt(kr.sum(kr.square(y_true - y_pred)))\n",
        "\n",
        "def dobot_ikine_from_DNN(model, x, y, z):\n",
        "    ik_res = model.predict(np.array([[x, y, z]]), batch_size=500)\n",
        "    return ik_res"
      ]
    },
    {
      "cell_type": "markdown",
      "source": [
        "# 使用DNN計算IK"
      ],
      "metadata": {
        "id": "KK_c4qL2zDqN"
      }
    },
    {
      "cell_type": "code",
      "execution_count": null,
      "metadata": {
        "id": "M4WwoO0KJXrH"
      },
      "outputs": [],
      "source": [
        "dobot_ik_test = dobot_ikine_from_DNN(model, 200, 0, 100)\n",
        "print(np.degrees(dobot_ik_test))"
      ]
    }
  ],
  "metadata": {
    "interpreter": {
      "hash": "aaeb6f44e8dae70c8f4c9e3c0eefb64f64e50a279a78e3069b12cd2168827553"
    },
    "kernelspec": {
      "display_name": "Python 3.7.9 64-bit ('CK': conda)",
      "name": "python3"
    },
    "language_info": {
      "codemirror_mode": {
        "name": "ipython",
        "version": 3
      },
      "file_extension": ".py",
      "mimetype": "text/x-python",
      "name": "python",
      "nbconvert_exporter": "python",
      "pygments_lexer": "ipython3",
      "version": "3.7.9"
    },
    "orig_nbformat": 4,
    "colab": {
      "name": "DOBOTExec",
      "provenance": []
    },
    "accelerator": "GPU"
  },
  "nbformat": 4,
  "nbformat_minor": 0
}